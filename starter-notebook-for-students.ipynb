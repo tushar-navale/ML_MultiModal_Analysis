{
 "cells": [
  {
   "cell_type": "code",
   "execution_count": null,
   "metadata": {
    "_cell_guid": "b1076dfc-b9ad-4769-8c92-a6c4dae69d19",
    "_uuid": "8f2839f25d086af736a60e9eeb907d3b93b6e0e5",
    "trusted": true
   },
   "outputs": [],
   "source": [
    "import numpy as np \n",
    "import pandas as pd \n",
    "import matplotlib.pyplot as plt \n",
    "import random\n",
    "import os"
   ]
  },
  {
   "cell_type": "code",
   "execution_count": null,
   "metadata": {
    "trusted": true
   },
   "outputs": [],
   "source": [
    "train_df = pd.read_csv('/kaggle/input/PES-ml-hack-link2/train.csv')\n",
    "# Define path to video clips\n",
    "video_dir = '/kaggle/input/PES-ml-hack-link2/train_videos'\n",
    "\n",
    "\n",
    "# Function to get video file path from IDs\n",
    "def get_video_clip_path(row):\n",
    "    dialogue_id = row['Dialogue_ID']\n",
    "    utterance_id = row['Utterance_ID']\n",
    "    filename = f\"dia{dialogue_id}_utt{utterance_id}.mp4\"\n",
    "    return os.path.join(video_dir, filename)\n",
    "\n",
    "# Apply the function to get file paths for each sampled clip\n",
    "train_df['video_clip_path'] = train_df.apply(get_video_clip_path, axis=1)\n",
    "\n",
    "# Check sample paths\n",
    "print(train_df[['Dialogue_ID', 'Utterance_ID', 'video_clip_path']].head())"
   ]
  },
  {
   "cell_type": "code",
   "execution_count": null,
   "metadata": {
    "trusted": true
   },
   "outputs": [],
   "source": [
    "train_df.shape"
   ]
  },
  {
   "cell_type": "code",
   "execution_count": null,
   "metadata": {
    "trusted": true
   },
   "outputs": [],
   "source": [
    "# Define path to video clips\n",
    "df = pd.read_csv('/kaggle/input/PES-ml-hack-link2/test.csv')\n",
    "video_dir = '/kaggle/input/PES-ml-hack-link2/test_videos'\n",
    "\n",
    "\n",
    "# Function to get video file path from IDs\n",
    "def get_video_clip_path(row):\n",
    "    dialogue_id = row['Dialogue_ID']\n",
    "    utterance_id = row['Utterance_ID']\n",
    "    filename = f\"dia{dialogue_id}_utt{utterance_id}.mp4\"\n",
    "    return os.path.join(video_dir, filename)\n",
    "\n",
    "# Apply the function to get file paths for each sampled clip\n",
    "df['video_clip_path'] = df.apply(get_video_clip_path, axis=1)\n",
    "\n",
    "# Check sample paths\n",
    "print(df[['Dialogue_ID', 'Utterance_ID', 'video_clip_path']].head())"
   ]
  },
  {
   "cell_type": "code",
   "execution_count": null,
   "metadata": {
    "trusted": true
   },
   "outputs": [],
   "source": [
    "all_preds = [\"your_prediction\" for i in df['Utterance_ID']]\n",
    "all_ids = df[\"Sr No.\"]\n",
    "submission_df = pd.DataFrame({\n",
    "        'Sr No.': all_ids,\n",
    "        'Emotion': all_preds\n",
    "    })\n",
    "    \n",
    "# Save the DataFrame to CSV\n",
    "submission_df.to_csv(\"submission.csv\", index=False)"
   ]
  }
 ],
 "metadata": {
  "kaggle": {
   "accelerator": "none",
   "dataSources": [
    {
     "databundleVersionId": 10107338,
     "sourceId": 88291,
     "sourceType": "competition"
    }
   ],
   "isGpuEnabled": false,
   "isInternetEnabled": true,
   "language": "python",
   "sourceType": "notebook"
  },
  "kernelspec": {
   "display_name": "Python 3",
   "language": "python",
   "name": "python3"
  },
  "language_info": {
   "codemirror_mode": {
    "name": "ipython",
    "version": 3
   },
   "file_extension": ".py",
   "mimetype": "text/x-python",
   "name": "python",
   "nbconvert_exporter": "python",
   "pygments_lexer": "ipython3",
   "version": "3.6.4"
  }
 },
 "nbformat": 4,
 "nbformat_minor": 4
}
